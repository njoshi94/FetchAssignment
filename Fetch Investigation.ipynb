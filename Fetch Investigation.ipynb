{
 "cells": [
  {
   "cell_type": "markdown",
   "id": "60843c64",
   "metadata": {},
   "source": [
    "Investigation for potential Data Quality Issues - the investigation will be done on the original unstructured data"
   ]
  },
  {
   "cell_type": "markdown",
   "id": "82729aef",
   "metadata": {},
   "source": [
    "Importing the json files "
   ]
  },
  {
   "cell_type": "code",
   "execution_count": 13,
   "id": "8b1cea75",
   "metadata": {},
   "outputs": [],
   "source": [
    "import json \n",
    "\n",
    "brandsList = []\n",
    "usersList = []\n",
    "receiptsList = []\n",
    "\n",
    "with open('brands.json') as f:\n",
    "    for line in f:\n",
    "        brandsList.append(json.loads(line))\n",
    "        \n",
    "with open('users.json') as f:\n",
    "    for line in f:\n",
    "        usersList.append(json.loads(line))\n",
    "        \n",
    "with open('receipts.json') as f:\n",
    "    for line in f:\n",
    "        receiptsList.append(json.loads(line))"
   ]
  },
  {
   "cell_type": "markdown",
   "id": "26a2ad7d",
   "metadata": {},
   "source": [
    "First potential Data Quality Issue - missing joinable key between tables. Starting by checking if all \"rewardsProductPartnerId\" fields in the receipts table match up with the CPG ID field in the brands table "
   ]
  },
  {
   "cell_type": "markdown",
   "id": "718e606f",
   "metadata": {},
   "source": [
    "Creating a table of all CPG Ids to easily iterate through.\n"
   ]
  },
  {
   "cell_type": "code",
   "execution_count": 14,
   "id": "5c6c181d",
   "metadata": {},
   "outputs": [],
   "source": [
    "brandIDs = []\n",
    "\n",
    "for x in brandsList:\n",
    "    brandIDs.append(x['cpg']['$id']['$oid'])\n",
    "        "
   ]
  },
  {
   "cell_type": "markdown",
   "id": "cc524286",
   "metadata": {},
   "source": [
    "Now, iterate through all receipts and check the corresponding \"rewardsProductPartnerId\" fields and seeing if any are not in the brandsID table. Any records that do not match up to the brandsID table will be printed. "
   ]
  },
  {
   "cell_type": "code",
   "execution_count": 15,
   "id": "225cf1cb",
   "metadata": {},
   "outputs": [
    {
     "name": "stdout",
     "output_type": "stream",
     "text": [
      "{'barcode': '759283400082', 'description': 'KRAFT BACK TO NATURE CHEDDAR CHEESE SHELL MACARONI AND CHEESE MIX 6 OZ - 0759283400081', 'finalPrice': '1', 'itemPrice': '1', 'partnerItemId': '1', 'quantityPurchased': 1, 'rewardsProductPartnerId': '5e825d64f221c312e698a62a'}\n",
      "{'barcode': '021000032778', 'description': 'KRAFT HEINZ TACO BELL HOME ORIGINALS JALAPENO TACO SAUCE 8 OZ - 0021000032771', 'finalPrice': '9.99', 'itemPrice': '9.99', 'partnerItemId': '1', 'quantityPurchased': 1, 'rewardsProductPartnerId': '5e825d64f221c312e698a62a'}\n",
      "{'barcode': '021000032778', 'description': 'KRAFT HEINZ TACO BELL HOME ORIGINALS JALAPENO TACO SAUCE 8 OZ - 0021000032771', 'finalPrice': '9.99', 'itemPrice': '9.99', 'partnerItemId': '2', 'quantityPurchased': 1, 'rewardsProductPartnerId': '5e825d64f221c312e698a62a'}\n",
      "{'barcode': '021000032778', 'description': 'KRAFT HEINZ TACO BELL HOME ORIGINALS JALAPENO TACO SAUCE 8 OZ - 0021000032771', 'finalPrice': '9.99', 'itemPrice': '9.99', 'partnerItemId': '3', 'quantityPurchased': 1, 'rewardsProductPartnerId': '5e825d64f221c312e698a62a'}\n",
      "{'barcode': '021000032778', 'description': 'KRAFT HEINZ TACO BELL HOME ORIGINALS JALAPENO TACO SAUCE 8 OZ - 0021000032771', 'finalPrice': '9.99', 'itemPrice': '9.99', 'partnerItemId': '4', 'quantityPurchased': 1, 'rewardsProductPartnerId': '5e825d64f221c312e698a62a'}\n",
      "{'barcode': '021000032778', 'description': 'KRAFT HEINZ TACO BELL HOME ORIGINALS JALAPENO TACO SAUCE 8 OZ - 0021000032771', 'finalPrice': '9.99', 'itemPrice': '9.99', 'partnerItemId': '5', 'quantityPurchased': 1, 'rewardsProductPartnerId': '5e825d64f221c312e698a62a'}\n",
      "{'barcode': '021000032778', 'description': 'KRAFT HEINZ TACO BELL HOME ORIGINALS JALAPENO TACO SAUCE 8 OZ - 0021000032771', 'finalPrice': '9.99', 'itemPrice': '9.99', 'partnerItemId': '6', 'quantityPurchased': 1, 'rewardsProductPartnerId': '5e825d64f221c312e698a62a'}\n",
      "{'barcode': '021000032778', 'description': 'KRAFT HEINZ TACO BELL HOME ORIGINALS JALAPENO TACO SAUCE 8 OZ - 0021000032771', 'finalPrice': '9.99', 'itemPrice': '9.99', 'partnerItemId': '7', 'quantityPurchased': 1, 'rewardsProductPartnerId': '5e825d64f221c312e698a62a'}\n",
      "{'barcode': '021000032778', 'description': 'KRAFT HEINZ TACO BELL HOME ORIGINALS JALAPENO TACO SAUCE 8 OZ - 0021000032771', 'finalPrice': '9.99', 'itemPrice': '9.99', 'partnerItemId': '8', 'quantityPurchased': 1, 'rewardsProductPartnerId': '5e825d64f221c312e698a62a'}\n",
      "{'barcode': '021000032778', 'description': 'KRAFT HEINZ TACO BELL HOME ORIGINALS JALAPENO TACO SAUCE 8 OZ - 0021000032771', 'finalPrice': '9.99', 'itemPrice': '9.99', 'partnerItemId': '9', 'quantityPurchased': 1, 'rewardsProductPartnerId': '5e825d64f221c312e698a62a'}\n",
      "{'barcode': '044700092408', 'competitiveProduct': True, 'finalPrice': '9.99', 'itemPrice': '9.99', 'partnerItemId': '1', 'quantityPurchased': 1, 'rewardsGroup': 'VLASIC PICKLES', 'rewardsProductPartnerId': '5e825d64f221c312e698a62a'}\n",
      "{'barcode': '044700092408', 'competitiveProduct': True, 'finalPrice': '9.99', 'itemPrice': '9.99', 'partnerItemId': '2', 'quantityPurchased': 1, 'rewardsGroup': 'VLASIC PICKLES', 'rewardsProductPartnerId': '5e825d64f221c312e698a62a'}\n",
      "{'barcode': '044700092408', 'competitiveProduct': True, 'finalPrice': '9.99', 'itemPrice': '9.99', 'partnerItemId': '3', 'quantityPurchased': 1, 'rewardsGroup': 'VLASIC PICKLES', 'rewardsProductPartnerId': '5e825d64f221c312e698a62a'}\n",
      "{'barcode': '044700092408', 'competitiveProduct': True, 'finalPrice': '9.99', 'itemPrice': '9.99', 'partnerItemId': '4', 'quantityPurchased': 1, 'rewardsGroup': 'VLASIC PICKLES', 'rewardsProductPartnerId': '5e825d64f221c312e698a62a'}\n",
      "{'barcode': '044700092408', 'competitiveProduct': True, 'finalPrice': '9.99', 'itemPrice': '9.99', 'partnerItemId': '5', 'quantityPurchased': 1, 'rewardsGroup': 'VLASIC PICKLES', 'rewardsProductPartnerId': '5e825d64f221c312e698a62a'}\n",
      "{'barcode': '043000078488', 'competitiveProduct': True, 'finalPrice': '9.99', 'itemPrice': '9.99', 'partnerItemId': '1', 'quantityPurchased': 1, 'rewardsGroup': 'SWISS MISS CAFÃ‰', 'rewardsProductPartnerId': '5e825d64f221c312e698a62a'}\n",
      "{'barcode': '043000078488', 'competitiveProduct': True, 'finalPrice': '9.99', 'itemPrice': '9.99', 'partnerItemId': '2', 'quantityPurchased': 1, 'rewardsGroup': 'SWISS MISS CAFÃ‰', 'rewardsProductPartnerId': '5e825d64f221c312e698a62a'}\n",
      "{'barcode': '043000078488', 'competitiveProduct': True, 'finalPrice': '9.99', 'itemPrice': '9.99', 'partnerItemId': '3', 'quantityPurchased': 1, 'rewardsGroup': 'SWISS MISS CAFÃ‰', 'rewardsProductPartnerId': '5e825d64f221c312e698a62a'}\n",
      "{'barcode': '043000078488', 'competitiveProduct': True, 'finalPrice': '9.99', 'itemPrice': '9.99', 'partnerItemId': '4', 'quantityPurchased': 1, 'rewardsGroup': 'SWISS MISS CAFÃ‰', 'rewardsProductPartnerId': '5e825d64f221c312e698a62a'}\n",
      "{'barcode': '043000078488', 'competitiveProduct': True, 'finalPrice': '9.99', 'itemPrice': '9.99', 'partnerItemId': '5', 'quantityPurchased': 1, 'rewardsGroup': 'SWISS MISS CAFÃ‰', 'rewardsProductPartnerId': '5e825d64f221c312e698a62a'}\n",
      "{'barcode': '013000006187', 'description': 'HEINZ SWEET SWEET RELISH 12.7 OZ - 0013000006184', 'finalPrice': '9.99', 'itemPrice': '9.99', 'partnerItemId': '1', 'quantityPurchased': 1, 'rewardsProductPartnerId': '5e825d64f221c312e698a62a'}\n",
      "{'barcode': '013000006187', 'description': 'HEINZ SWEET SWEET RELISH 12.7 OZ - 0013000006184', 'finalPrice': '9.99', 'itemPrice': '9.99', 'partnerItemId': '2', 'quantityPurchased': 1, 'rewardsProductPartnerId': '5e825d64f221c312e698a62a'}\n",
      "{'barcode': '013000006187', 'description': 'HEINZ SWEET SWEET RELISH 12.7 OZ - 0013000006184', 'finalPrice': '9.99', 'itemPrice': '9.99', 'partnerItemId': '3', 'quantityPurchased': 1, 'rewardsProductPartnerId': '5e825d64f221c312e698a62a'}\n",
      "{'barcode': '013000006187', 'description': 'HEINZ SWEET SWEET RELISH 12.7 OZ - 0013000006184', 'finalPrice': '9.99', 'itemPrice': '9.99', 'partnerItemId': '4', 'quantityPurchased': 1, 'rewardsProductPartnerId': '5e825d64f221c312e698a62a'}\n",
      "{'barcode': '013000006187', 'description': 'HEINZ SWEET SWEET RELISH 12.7 OZ - 0013000006184', 'finalPrice': '9.99', 'itemPrice': '9.99', 'partnerItemId': '5', 'quantityPurchased': 1, 'rewardsProductPartnerId': '5e825d64f221c312e698a62a'}\n",
      "{'barcode': '021000046904', 'description': 'KRAFT HEINZ TACO BELL REGULAR EXTRA HOT TACO SAUCE 7.5 OZ - 0021000046901', 'finalPrice': '9.99', 'itemPrice': '9.99', 'partnerItemId': '1', 'quantityPurchased': 1, 'rewardsProductPartnerId': '5e825d64f221c312e698a62a'}\n",
      "{'barcode': '053000069867', 'brandCode': 'BORDEN', 'description': 'BORDEN REFRIGERATED REGULAR MONTEREY JACK CHEESE SLICED REGULAR FAT 6 OZ - 0053000069861', 'discountedItemPrice': '4.53', 'finalPrice': '4.53', 'itemPrice': '4.53', 'originalReceiptItemText': 'BORDEN 29 N ILK, 1/2 GAL', 'partnerItemId': '1011', 'quantityPurchased': 1, 'rewardsProductPartnerId': '5e825d64f221c312e698a62a'}\n",
      "{'barcode': '043000080443', 'competitiveProduct': True, 'finalPrice': '5', 'itemPrice': '5', 'partnerItemId': '1', 'quantityPurchased': 1, 'rewardsGroup': 'SWISS MISS CAFÃ‰', 'rewardsProductPartnerId': '5e825d64f221c312e698a62a'}\n",
      "{'barcode': '043000080443', 'competitiveProduct': True, 'finalPrice': '5', 'itemPrice': '5', 'partnerItemId': '2', 'quantityPurchased': 1, 'rewardsGroup': 'SWISS MISS CAFÃ‰', 'rewardsProductPartnerId': '5e825d64f221c312e698a62a'}\n",
      "{'barcode': '043000080443', 'competitiveProduct': True, 'finalPrice': '5', 'itemPrice': '5', 'partnerItemId': '3', 'quantityPurchased': 1, 'rewardsGroup': 'SWISS MISS CAFÃ‰', 'rewardsProductPartnerId': '5e825d64f221c312e698a62a'}\n",
      "{'barcode': '043000080443', 'competitiveProduct': True, 'finalPrice': '5', 'itemPrice': '5', 'partnerItemId': '4', 'quantityPurchased': 1, 'rewardsGroup': 'SWISS MISS CAFÃ‰', 'rewardsProductPartnerId': '5e825d64f221c312e698a62a'}\n",
      "{'barcode': '043000080443', 'competitiveProduct': True, 'finalPrice': '5', 'itemPrice': '5', 'partnerItemId': '5', 'quantityPurchased': 1, 'rewardsGroup': 'SWISS MISS CAFÃ‰', 'rewardsProductPartnerId': '5e825d64f221c312e698a62a'}\n",
      "{'barcode': '013000009263', 'competitiveProduct': True, 'finalPrice': '9.99', 'itemPrice': '9.99', 'partnerItemId': '1', 'quantityPurchased': 1, 'rewardsGroup': 'GULDENS MUSTARD', 'rewardsProductPartnerId': '5e825d64f221c312e698a62a'}\n",
      "{'barcode': '013000006187', 'description': 'HEINZ SWEET SWEET RELISH 12.7 OZ - 0013000006184', 'finalPrice': '5', 'itemPrice': '5', 'partnerItemId': '1', 'quantityPurchased': 1, 'rewardsProductPartnerId': '5e825d64f221c312e698a62a'}\n",
      "{'barcode': '013000006187', 'description': 'HEINZ SWEET SWEET RELISH 12.7 OZ - 0013000006184', 'finalPrice': '5', 'itemPrice': '5', 'partnerItemId': '2', 'quantityPurchased': 1, 'rewardsProductPartnerId': '5e825d64f221c312e698a62a'}\n",
      "{'barcode': '013000006187', 'description': 'HEINZ SWEET SWEET RELISH 12.7 OZ - 0013000006184', 'finalPrice': '5', 'itemPrice': '5', 'partnerItemId': '3', 'quantityPurchased': 1, 'rewardsProductPartnerId': '5e825d64f221c312e698a62a'}\n",
      "{'barcode': '013000006187', 'description': 'HEINZ SWEET SWEET RELISH 12.7 OZ - 0013000006184', 'finalPrice': '5', 'itemPrice': '5', 'partnerItemId': '4', 'quantityPurchased': 1, 'rewardsProductPartnerId': '5e825d64f221c312e698a62a'}\n",
      "{'barcode': '013000006187', 'description': 'HEINZ SWEET SWEET RELISH 12.7 OZ - 0013000006184', 'finalPrice': '5', 'itemPrice': '5', 'partnerItemId': '5', 'quantityPurchased': 1, 'rewardsProductPartnerId': '5e825d64f221c312e698a62a'}\n",
      "{'barcode': '043000048528', 'competitiveProduct': True, 'finalPrice': '9.99', 'itemPrice': '9.99', 'partnerItemId': '1', 'quantityPurchased': 1, 'rewardsGroup': 'DUNCAN HINES CAKE MIX', 'rewardsProductPartnerId': '5e825d64f221c312e698a62a'}\n",
      "{'barcode': '043000048528', 'competitiveProduct': True, 'finalPrice': '9.99', 'itemPrice': '9.99', 'partnerItemId': '2', 'quantityPurchased': 1, 'rewardsGroup': 'DUNCAN HINES CAKE MIX', 'rewardsProductPartnerId': '5e825d64f221c312e698a62a'}\n",
      "{'barcode': '043000048528', 'competitiveProduct': True, 'finalPrice': '9.99', 'itemPrice': '9.99', 'partnerItemId': '3', 'quantityPurchased': 1, 'rewardsGroup': 'DUNCAN HINES CAKE MIX', 'rewardsProductPartnerId': '5e825d64f221c312e698a62a'}\n",
      "{'barcode': '043000048528', 'competitiveProduct': True, 'finalPrice': '9.99', 'itemPrice': '9.99', 'partnerItemId': '4', 'quantityPurchased': 1, 'rewardsGroup': 'DUNCAN HINES CAKE MIX', 'rewardsProductPartnerId': '5e825d64f221c312e698a62a'}\n",
      "{'barcode': '043000048528', 'competitiveProduct': True, 'finalPrice': '9.99', 'itemPrice': '9.99', 'partnerItemId': '5', 'quantityPurchased': 1, 'rewardsGroup': 'DUNCAN HINES CAKE MIX', 'rewardsProductPartnerId': '5e825d64f221c312e698a62a'}\n"
     ]
    }
   ],
   "source": [
    "for x in receiptsList:\n",
    "    try:\n",
    "        for y in x['rewardsReceiptItemList']:\n",
    "            if y['rewardsProductPartnerId'] not in brandIDs:\n",
    "                print(y) \n",
    "    except:\n",
    "        pass "
   ]
  },
  {
   "cell_type": "markdown",
   "id": "a88ac7f8",
   "metadata": {},
   "source": [
    "There are several items with no corresponding matching values in brandsList. There are two main potential issues: One is that the joinable keys between tables are incorrect and the other is that the brand does not exist in the Brands table. We will check several brands listed to see if they have any results in the brandsList table. "
   ]
  },
  {
   "cell_type": "code",
   "execution_count": 18,
   "id": "53f616b9",
   "metadata": {},
   "outputs": [],
   "source": [
    "for x in brandsList:\n",
    "    try:\n",
    "        if 'Duncan' in x['brandCode']:\n",
    "            print(x)\n",
    "    except:\n",
    "        pass"
   ]
  },
  {
   "cell_type": "markdown",
   "id": "30ff75d6",
   "metadata": {},
   "source": [
    "No results. Therefore, we know that some brands are not in the brands table. We still want to check for potential incorrect IDs as well."
   ]
  },
  {
   "cell_type": "code",
   "execution_count": 20,
   "id": "0baecd33",
   "metadata": {},
   "outputs": [
    {
     "name": "stdout",
     "output_type": "stream",
     "text": [
      "{'_id': {'$oid': '57ebc009e4b0ac389136a334'}, 'name': 'Heinz', 'category': 'Condiments & Sauces', 'cpg': {'$ref': 'Cogs', '$id': {'$oid': '559c2234e4b06aca36af13c6'}}, 'barcode': '511111302131', 'brandCode': 'HEINZ', 'topBrand': False}\n"
     ]
    }
   ],
   "source": [
    "for x in brandsList:\n",
    "    try:\n",
    "        if 'HEINZ' in x['brandCode']:\n",
    "            print(x)\n",
    "    except:\n",
    "        pass"
   ]
  },
  {
   "cell_type": "markdown",
   "id": "2ebc45ec",
   "metadata": {},
   "source": [
    "As we can see, both previously mentioned issues are apparent in the data. We are not only missing brands in the brands table, but we also have incorrect joinable keys between receipt items and the brands table. "
   ]
  }
 ],
 "metadata": {
  "kernelspec": {
   "display_name": "Python 3 (ipykernel)",
   "language": "python",
   "name": "python3"
  },
  "language_info": {
   "codemirror_mode": {
    "name": "ipython",
    "version": 3
   },
   "file_extension": ".py",
   "mimetype": "text/x-python",
   "name": "python",
   "nbconvert_exporter": "python",
   "pygments_lexer": "ipython3",
   "version": "3.8.8"
  }
 },
 "nbformat": 4,
 "nbformat_minor": 5
}
